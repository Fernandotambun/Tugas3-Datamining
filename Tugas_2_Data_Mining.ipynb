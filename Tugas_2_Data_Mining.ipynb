{
  "nbformat": 4,
  "nbformat_minor": 0,
  "metadata": {
    "colab": {
      "provenance": [],
      "include_colab_link": true
    },
    "kernelspec": {
      "name": "python3",
      "display_name": "Python 3"
    },
    "language_info": {
      "name": "python"
    }
  },
  "cells": [
    {
      "cell_type": "markdown",
      "metadata": {
        "id": "view-in-github",
        "colab_type": "text"
      },
      "source": [
        "<a href=\"https://colab.research.google.com/github/Fernandotambun/Tugas3-Datamining/blob/main/Tugas_2_Data_Mining.ipynb\" target=\"_parent\"><img src=\"https://colab.research.google.com/assets/colab-badge.svg\" alt=\"Open In Colab\"/></a>"
      ]
    },
    {
      "cell_type": "code",
      "execution_count": null,
      "metadata": {
        "id": "cYscyPzDSIsB"
      },
      "outputs": [],
      "source": [
        "import numpy as np\n",
        "import matplotlib.pyplot as plt\n",
        "import pandas as pd"
      ]
    },
    {
      "cell_type": "code",
      "source": [
        "dataset=pd.read_csv('dataset_customerini.csv')\n",
        "x = dataset.iloc[:, :-2].values\n",
        "y = dataset.iloc[:, -1].values\n",
        "z = dataset.iloc[:, -2].values"
      ],
      "metadata": {
        "id": "FXCmUdnIUxpk"
      },
      "execution_count": null,
      "outputs": []
    },
    {
      "cell_type": "code",
      "source": [
        "print(x)"
      ],
      "metadata": {
        "colab": {
          "base_uri": "https://localhost:8080/"
        },
        "id": "_mRWf_zxqAJX",
        "outputId": "c562753e-391b-4738-8a1f-7ed11149872b"
      },
      "execution_count": null,
      "outputs": [
        {
          "output_type": "stream",
          "name": "stdout",
          "text": [
            "[['South' 44.0 64000.0]\n",
            " ['West' 33.0 136000.0]\n",
            " ['West' nan nan]\n",
            " ...\n",
            " ['West' 31.0 24000.0]\n",
            " ['West' 42.0 81000.0]\n",
            " ['South' 24.0 nan]]\n"
          ]
        }
      ]
    },
    {
      "cell_type": "code",
      "source": [
        "print(y)"
      ],
      "metadata": {
        "colab": {
          "base_uri": "https://localhost:8080/"
        },
        "id": "WUwaEFb5sHVv",
        "outputId": "47943b2c-2367-4581-92eb-21a78bd415fa"
      },
      "execution_count": null,
      "outputs": [
        {
          "output_type": "stream",
          "name": "stdout",
          "text": [
            "['Female' 'Female' 'Male' 'Male' 'Female' 'Male' 'Male' 'Female' 'Female'\n",
            " 'Female' 'Male' 'Male' 'Male' 'Male' 'Male' 'Female' 'Female' 'Male'\n",
            " 'Female' 'Female' 'Male' 'Female' 'Male' 'Female' 'Female' 'Male' 'Male'\n",
            " 'Female' 'Male' 'Male' 'Male' 'Female' 'Male' 'Female' 'Female' 'Female'\n",
            " 'Female' 'Female' 'Male' 'Male' 'Female' 'Male' 'Female' 'Female' 'Male'\n",
            " 'Female' 'Female' 'Female' 'Male' 'Male' 'Female' 'Female' 'Female'\n",
            " 'Female' 'Female' 'Male' 'Male' 'Female' 'Male' 'Male' 'Male' 'Male'\n",
            " 'Female' 'Male' 'Female' 'Female' 'Male' 'Female' 'Female' 'Male'\n",
            " 'Female' 'Male' 'Female' 'Male' 'Female' 'Female' 'Female' 'Female'\n",
            " 'Male' 'Male' 'Male' 'Female' 'Female' 'Male' 'Male' 'Female' 'Female'\n",
            " 'Female' 'Male' 'Female' 'Female' 'Male' 'Male' 'Male' 'Male' 'Female'\n",
            " 'Female' 'Male' 'Male' 'Male' 'Female' 'Male' 'Female' 'Male' 'Male'\n",
            " 'Male' 'Female' 'Male' 'Female' 'Female' 'Male' 'Male' 'Male' 'Female'\n",
            " 'Male' 'Male' 'Female' 'Male' 'Female' 'Female' 'Male' 'Female' 'Female'\n",
            " 'Female' 'Female' 'Male' 'Male' 'Female' 'Male' 'Male' 'Female' 'Female'\n",
            " 'Female' 'Male' 'Female' 'Male' 'Male' 'Female' 'Male' 'Female' 'Male'\n",
            " 'Female' 'Male' 'Female' 'Male' 'Male' 'Female' 'Male' 'Male' 'Female'\n",
            " 'Male' 'Male' 'Male' 'Female' 'Female' 'Male' 'Female' 'Female' 'Male'\n",
            " 'Male' 'Male' 'Male' 'Female' 'Male' 'Male' 'Female' 'Female' 'Male'\n",
            " 'Female' 'Female' 'Female' 'Male' 'Male' 'Male' 'Male' 'Female' 'Male'\n",
            " 'Female' 'Male' 'Male' 'Female' 'Female' 'Female' 'Female' 'Female'\n",
            " 'Female' 'Male' 'Female' 'Male' 'Male' 'Male' 'Male' 'Male' 'Female'\n",
            " 'Female' 'Male' 'Female' 'Female' 'Male' 'Male' 'Female' 'Female' 'Male'\n",
            " 'Female' 'Female' 'Female' 'Male' 'Male' 'Male' 'Male' 'Male' 'Female'\n",
            " 'Female' 'Female' 'Female' 'Male' 'Female' 'Female' 'Female' 'Female'\n",
            " 'Male' 'Male' 'Female' 'Female' 'Male' 'Female' 'Male' 'Male' 'Female'\n",
            " 'Female' 'Female' 'Male' 'Female' 'Female' 'Female' 'Female' 'Female'\n",
            " 'Female' 'Male' 'Female' 'Male' 'Male' 'Female' 'Female' 'Male' 'Male'\n",
            " 'Female' 'Male' 'Male' 'Male' 'Female' 'Male' 'Female' 'Male' 'Female'\n",
            " 'Male' 'Male' 'Female' 'Female' 'Female' 'Male' 'Male' 'Male' 'Male'\n",
            " 'Male' 'Male' 'Female' 'Female' 'Female' 'Male' 'Male' 'Female' 'Female'\n",
            " 'Female' 'Male' 'Female' 'Male' 'Male' 'Female' 'Female' 'Female'\n",
            " 'Female' 'Male' 'Male' 'Female' 'Male' 'Male' 'Male' 'Male' 'Female'\n",
            " 'Female' 'Female' 'Male' 'Male' 'Female' 'Female' 'Female' 'Female'\n",
            " 'Female' 'Male' 'Male' 'Female' 'Female' 'Male' 'Male' 'Female' 'Female'\n",
            " 'Male' 'Male' 'Female' 'Female' 'Male' 'Male' 'Female' 'Male' 'Female'\n",
            " 'Male' 'Male' 'Male' 'Male' 'Female' 'Female' 'Female' 'Male' 'Female'\n",
            " 'Female' 'Male' 'Female' 'Male' 'Male' 'Female' 'Male' 'Female' 'Male'\n",
            " 'Female' 'Female' 'Female' 'Female' 'Female' 'Male' 'Male' 'Female'\n",
            " 'Female' 'Female' 'Female' 'Female' 'Male' 'Male' 'Female' 'Male'\n",
            " 'Female' 'Male' 'Male' 'Female' 'Male' 'Female' 'Male' 'Male' 'Female'\n",
            " 'Female' 'Male' 'Female' 'Male' 'Female' 'Male' 'Male' 'Male' 'Female'\n",
            " 'Male' 'Male' 'Female' 'Female' 'Male' 'Female' 'Male' 'Male' 'Female'\n",
            " 'Male' 'Female' 'Male' 'Female' 'Male' 'Male' 'Male' 'Female' 'Male'\n",
            " 'Female' 'Male' 'Female' 'Male' 'Female' 'Female' 'Female' 'Male' 'Male'\n",
            " 'Female' 'Male' 'Male' 'Male' 'Male' 'Female' 'Female' 'Male' 'Male'\n",
            " 'Male' 'Male' 'Male' 'Female' 'Female' 'Male' 'Male' 'Male' 'Male' 'Male'\n",
            " 'Male' 'Male' 'Male' 'Male' 'Female' 'Male' 'Male' 'Male' 'Male' 'Male'\n",
            " 'Male' 'Female' 'Female' 'Male' 'Female' 'Female' 'Female' 'Female'\n",
            " 'Female' 'Male' 'Male' 'Female' 'Female' 'Male' 'Female' 'Female' 'Male'\n",
            " 'Female' 'Female' 'Female' 'Female' 'Male' 'Male' 'Female' 'Female'\n",
            " 'Female' 'Female' 'Female' 'Female' 'Male' 'Male' 'Female' 'Male' 'Male'\n",
            " 'Male' 'Female' 'Male' 'Female' 'Male' 'Female' 'Female' 'Male' 'Female'\n",
            " 'Male' 'Female' 'Male' 'Female' 'Female' 'Male' 'Female' 'Female' 'Male'\n",
            " 'Male' 'Male' 'Female' 'Male' 'Male' 'Female' 'Male' 'Male' 'Female'\n",
            " 'Female' 'Female' 'Male' 'Female' 'Female' 'Female' 'Male' 'Female'\n",
            " 'Female' 'Male' 'Female' 'Female' 'Male' 'Female']\n"
          ]
        }
      ]
    },
    {
      "cell_type": "code",
      "source": [
        "print(z)"
      ],
      "metadata": {
        "colab": {
          "base_uri": "https://localhost:8080/"
        },
        "id": "sx_BltgWtJND",
        "outputId": "e0369c1d-0110-4766-c507-1b90739e245f"
      },
      "execution_count": null,
      "outputs": [
        {
          "output_type": "stream",
          "name": "stdout",
          "text": [
            "['married' 'married' 'married' 'single' 'married' 'single' 'married'\n",
            " 'single' 'married' 'married' 'single' 'single' 'married' 'married'\n",
            " 'single' 'married' 'single' 'single' 'single' 'married' 'single'\n",
            " 'married' 'single' 'married' 'married' 'single' 'single' 'married'\n",
            " 'married' 'married' 'married' 'married' 'married' 'married' 'married'\n",
            " 'married' 'single' 'married' 'married' 'single' 'single' 'single'\n",
            " 'married' 'married' 'married' 'married' 'married' 'married' 'married'\n",
            " 'single' 'married' 'married' 'single' 'married' 'single' 'married'\n",
            " 'single' 'married' 'single' 'married' 'married' 'married' 'single'\n",
            " 'married' 'single' 'married' 'married' 'married' 'single' 'single'\n",
            " 'married' 'single' 'single' 'single' 'married' 'single' 'married'\n",
            " 'single' 'single' 'single' 'married' 'single' 'married' 'single'\n",
            " 'married' 'married' 'single' 'married' 'single' 'married' 'married'\n",
            " 'single' 'married' 'single' 'married' 'single' 'married' 'married'\n",
            " 'married' 'single' 'single' 'married' 'single' 'married' 'single'\n",
            " 'single' 'single' 'single' 'single' 'married' 'married' 'married'\n",
            " 'single' 'single' 'single' 'single' 'single' 'married' 'single' 'single'\n",
            " 'single' 'single' 'married' 'married' 'married' 'single' 'single'\n",
            " 'married' 'married' 'married' 'married' 'married' 'married' 'married'\n",
            " 'single' 'single' 'single' 'single' 'married' 'single' 'married'\n",
            " 'married' 'married' 'married' 'single' 'single' 'married' 'married'\n",
            " 'married' 'single' 'married' 'single' 'single' 'single' 'single'\n",
            " 'married' 'single' 'single' 'married' 'single' 'married' 'married'\n",
            " 'married' 'single' 'single' 'married' 'married' 'married' 'single'\n",
            " 'single' 'married' 'married' 'married' 'single' 'single' 'single'\n",
            " 'single' 'married' 'single' 'single' 'married' 'single' 'married'\n",
            " 'married' 'single' 'single' 'married' 'married' 'married' 'married'\n",
            " 'married' 'single' 'single' 'single' 'married' 'married' 'single'\n",
            " 'married' 'single' 'single' 'single' 'single' 'married' 'married'\n",
            " 'married' 'married' 'married' 'married' 'single' 'married' 'single'\n",
            " 'single' 'married' 'single' 'single' 'single' 'married' 'married'\n",
            " 'married' 'single' 'single' 'single' 'single' 'married' 'single' 'single'\n",
            " 'married' 'single' 'single' 'single' 'single' 'married' 'married'\n",
            " 'single' 'single' 'single' 'married' 'married' 'single' 'married'\n",
            " 'single' 'married' 'single' 'married' 'single' 'single' 'single' 'single'\n",
            " 'married' 'married' 'single' 'married' 'married' 'single' 'single'\n",
            " 'married' 'single' 'married' 'single' 'single' 'single' 'single' 'single'\n",
            " 'married' 'married' 'married' 'married' 'married' 'married' 'single'\n",
            " 'single' 'single' 'single' 'single' 'single' 'married' 'single' 'single'\n",
            " 'single' 'single' 'single' 'married' 'married' 'single' 'married'\n",
            " 'married' 'married' 'married' 'single' 'married' 'married' 'married'\n",
            " 'single' 'single' 'married' 'single' 'single' 'single' 'single' 'married'\n",
            " 'married' 'married' 'married' 'single' 'single' 'married' 'married'\n",
            " 'single' 'single' 'married' 'married' 'single' 'married' 'married'\n",
            " 'married' 'single' 'married' 'married' 'married' 'married' 'single'\n",
            " 'married' 'single' 'married' 'single' 'married' 'married' 'single'\n",
            " 'single' 'single' 'single' 'married' 'single' 'single' 'married' 'single'\n",
            " 'married' 'married' 'single' 'married' 'married' 'single' 'single'\n",
            " 'single' 'single' 'married' 'single' 'single' 'married' 'married'\n",
            " 'married' 'married' 'single' 'single' 'married' 'single' 'married'\n",
            " 'single' 'married' 'single' 'married' 'single' 'married' 'single'\n",
            " 'single' 'single' 'married' 'single' 'single' 'married' 'married'\n",
            " 'married' 'single' 'single' 'single' 'married' 'single' 'married'\n",
            " 'single' 'married' 'single' 'single' 'married' 'single' 'single'\n",
            " 'married' 'single' 'married' 'married' 'married' 'married' 'married'\n",
            " 'married' 'single' 'single' 'single' 'single' 'single' 'single' 'married'\n",
            " 'single' 'single' 'married' 'single' 'married' 'married' 'married'\n",
            " 'single' 'single' 'single' 'married' 'single' 'single' 'single' 'single'\n",
            " 'single' 'married' 'married' 'single' 'single' 'single' 'married'\n",
            " 'single' 'married' 'married' 'married' 'married' 'married' 'single'\n",
            " 'married' 'single' 'married' 'single' 'married' 'single' 'married'\n",
            " 'single' 'single' 'single' 'single' 'married' 'single' 'married' 'single'\n",
            " 'married' 'single' 'married' 'single' 'married' 'married' 'married'\n",
            " 'married' 'single' 'single' 'single' 'single' 'married' 'single' 'single'\n",
            " 'married' 'married' 'single' 'single' 'married' 'married' 'single'\n",
            " 'married' 'married' 'married' 'married' 'married' 'single' 'married'\n",
            " 'single' 'married' 'married' 'single' 'single' 'single' 'single'\n",
            " 'married' 'married' 'married' 'single' 'single' 'single' 'married'\n",
            " 'single' 'married' 'single' 'single' 'single' 'single' 'married'\n",
            " 'married' 'married' 'married' 'married' 'single']\n"
          ]
        }
      ]
    },
    {
      "cell_type": "code",
      "source": [
        "from sklearn.impute import SimpleImputer\n",
        "imputer = SimpleImputer(missing_values=np.nan, strategy='mean')\n",
        "imputer.fit(x[:, 1:3])\n",
        "x[:,1:3] = imputer.transform(x[:, 1:3])"
      ],
      "metadata": {
        "id": "JA7Xgno7ma2i"
      },
      "execution_count": null,
      "outputs": []
    },
    {
      "cell_type": "code",
      "source": [
        "print(x)"
      ],
      "metadata": {
        "colab": {
          "base_uri": "https://localhost:8080/"
        },
        "id": "LPzxRQ5ip9Gt",
        "outputId": "f6cdc35d-c71e-449a-f8c6-2ddb45015246"
      },
      "execution_count": null,
      "outputs": [
        {
          "output_type": "stream",
          "name": "stdout",
          "text": [
            "[[0.0 1.0 0.0 44.0 64000.0]\n",
            " [0.0 0.0 1.0 33.0 136000.0]\n",
            " [0.0 0.0 1.0 41.450934579439256 76932.12669683258]\n",
            " ...\n",
            " [0.0 0.0 1.0 31.0 24000.0]\n",
            " [0.0 0.0 1.0 42.0 81000.0]\n",
            " [0.0 1.0 0.0 24.0 76932.12669683258]]\n"
          ]
        }
      ]
    },
    {
      "cell_type": "code",
      "source": [
        "from sklearn.compose import ColumnTransformer\n",
        "from sklearn.preprocessing import OneHotEncoder\n",
        "ct = ColumnTransformer(transformers=[('encoder', OneHotEncoder(),[0])], remainder='passthrough')\n",
        "x = np.array(ct.fit_transform(x))"
      ],
      "metadata": {
        "id": "Jnl0asFdrIHf"
      },
      "execution_count": null,
      "outputs": []
    },
    {
      "cell_type": "code",
      "source": [
        "print(x)"
      ],
      "metadata": {
        "colab": {
          "base_uri": "https://localhost:8080/"
        },
        "id": "UKboz7cvr8R-",
        "outputId": "740ebb6f-e86d-41f3-aa0f-f4e350ba2b38"
      },
      "execution_count": null,
      "outputs": [
        {
          "output_type": "stream",
          "name": "stdout",
          "text": [
            "[[1.0 0.0 1.0 0.0 44.0 64000.0]\n",
            " [1.0 0.0 0.0 1.0 33.0 136000.0]\n",
            " [1.0 0.0 0.0 1.0 41.450934579439256 76932.12669683258]\n",
            " ...\n",
            " [1.0 0.0 0.0 1.0 31.0 24000.0]\n",
            " [1.0 0.0 0.0 1.0 42.0 81000.0]\n",
            " [1.0 0.0 1.0 0.0 24.0 76932.12669683258]]\n"
          ]
        }
      ]
    },
    {
      "cell_type": "code",
      "source": [
        "from sklearn.preprocessing import LabelEncoder\n",
        "le = LabelEncoder()\n",
        "y = le.fit_transform(y)\n",
        "z = le.fit_transform(z)"
      ],
      "metadata": {
        "id": "3lBhiBD2sNe6"
      },
      "execution_count": null,
      "outputs": []
    },
    {
      "cell_type": "code",
      "source": [
        "print(y)"
      ],
      "metadata": {
        "colab": {
          "base_uri": "https://localhost:8080/"
        },
        "id": "KXSMWQM6tSJx",
        "outputId": "b6d77ae1-3386-4b12-d662-42839ac20ede"
      },
      "execution_count": null,
      "outputs": [
        {
          "output_type": "stream",
          "name": "stdout",
          "text": [
            "[0 0 1 1 0 1 1 0 0 0 1 1 1 1 1 0 0 1 0 0 1 0 1 0 0 1 1 0 1 1 1 0 1 0 0 0 0\n",
            " 0 1 1 0 1 0 0 1 0 0 0 1 1 0 0 0 0 0 1 1 0 1 1 1 1 0 1 0 0 1 0 0 1 0 1 0 1\n",
            " 0 0 0 0 1 1 1 0 0 1 1 0 0 0 1 0 0 1 1 1 1 0 0 1 1 1 0 1 0 1 1 1 0 1 0 0 1\n",
            " 1 1 0 1 1 0 1 0 0 1 0 0 0 0 1 1 0 1 1 0 0 0 1 0 1 1 0 1 0 1 0 1 0 1 1 0 1\n",
            " 1 0 1 1 1 0 0 1 0 0 1 1 1 1 0 1 1 0 0 1 0 0 0 1 1 1 1 0 1 0 1 1 0 0 0 0 0\n",
            " 0 1 0 1 1 1 1 1 0 0 1 0 0 1 1 0 0 1 0 0 0 1 1 1 1 1 0 0 0 0 1 0 0 0 0 1 1\n",
            " 0 0 1 0 1 1 0 0 0 1 0 0 0 0 0 0 1 0 1 1 0 0 1 1 0 1 1 1 0 1 0 1 0 1 1 0 0\n",
            " 0 1 1 1 1 1 1 0 0 0 1 1 0 0 0 1 0 1 1 0 0 0 0 1 1 0 1 1 1 1 0 0 0 1 1 0 0\n",
            " 0 0 0 1 1 0 0 1 1 0 0 1 1 0 0 1 1 0 1 0 1 1 1 1 0 0 0 1 0 0 1 0 1 1 0 1 0\n",
            " 1 0 0 0 0 0 1 1 0 0 0 0 0 1 1 0 1 0 1 1 0 1 0 1 1 0 0 1 0 1 0 1 1 1 0 1 1\n",
            " 0 0 1 0 1 1 0 1 0 1 0 1 1 1 0 1 0 1 0 1 0 0 0 1 1 0 1 1 1 1 0 0 1 1 1 1 1\n",
            " 0 0 1 1 1 1 1 1 1 1 1 0 1 1 1 1 1 1 0 0 1 0 0 0 0 0 1 1 0 0 1 0 0 1 0 0 0\n",
            " 0 1 1 0 0 0 0 0 0 1 1 0 1 1 1 0 1 0 1 0 0 1 0 1 0 1 0 0 1 0 0 1 1 1 0 1 1\n",
            " 0 1 1 0 0 0 1 0 0 0 1 0 0 1 0 0 1 0]\n"
          ]
        }
      ]
    },
    {
      "cell_type": "code",
      "source": [
        "print(z)"
      ],
      "metadata": {
        "colab": {
          "base_uri": "https://localhost:8080/"
        },
        "id": "ibUKOfBvtVly",
        "outputId": "9aae191d-1762-4eae-f40c-9916fe1524d7"
      },
      "execution_count": null,
      "outputs": [
        {
          "output_type": "stream",
          "name": "stdout",
          "text": [
            "[0 0 0 1 0 1 0 1 0 0 1 1 0 0 1 0 1 1 1 0 1 0 1 0 0 1 1 0 0 0 0 0 0 0 0 0 1\n",
            " 0 0 1 1 1 0 0 0 0 0 0 0 1 0 0 1 0 1 0 1 0 1 0 0 0 1 0 1 0 0 0 1 1 0 1 1 1\n",
            " 0 1 0 1 1 1 0 1 0 1 0 0 1 0 1 0 0 1 0 1 0 1 0 0 0 1 1 0 1 0 1 1 1 1 1 0 0\n",
            " 0 1 1 1 1 1 0 1 1 1 1 0 0 0 1 1 0 0 0 0 0 0 0 1 1 1 1 0 1 0 0 0 0 1 1 0 0\n",
            " 0 1 0 1 1 1 1 0 1 1 0 1 0 0 0 1 1 0 0 0 1 1 0 0 0 1 1 1 1 0 1 1 0 1 0 0 1\n",
            " 1 0 0 0 0 0 1 1 1 0 0 1 0 1 1 1 1 0 0 0 0 0 0 1 0 1 1 0 1 1 1 0 0 0 1 1 1\n",
            " 1 0 1 1 0 1 1 1 1 0 0 1 1 1 0 0 1 0 1 0 1 0 1 1 1 1 0 0 1 0 0 1 1 0 1 0 1\n",
            " 1 1 1 1 0 0 0 0 0 0 1 1 1 1 1 1 0 1 1 1 1 1 0 0 1 0 0 0 0 1 0 0 0 1 1 0 1\n",
            " 1 1 1 0 0 0 0 1 1 0 0 1 1 0 0 1 0 0 0 1 0 0 0 0 1 0 1 0 1 0 0 1 1 1 1 0 1\n",
            " 1 0 1 0 0 1 0 0 1 1 1 1 0 1 1 0 0 0 0 1 1 0 1 0 1 0 1 0 1 0 1 1 1 0 1 1 0\n",
            " 0 0 1 1 1 0 1 0 1 0 1 1 0 1 1 0 1 0 0 0 0 0 0 1 1 1 1 1 1 0 1 1 0 1 0 0 0\n",
            " 1 1 1 0 1 1 1 1 1 0 0 1 1 1 0 1 0 0 0 0 0 1 0 1 0 1 0 1 0 1 1 1 1 0 1 0 1\n",
            " 0 1 0 1 0 0 0 0 1 1 1 1 0 1 1 0 0 1 1 0 0 1 0 0 0 0 0 1 0 1 0 0 1 1 1 1 0\n",
            " 0 0 1 1 1 0 1 0 1 1 1 1 0 0 0 0 0 1]\n"
          ]
        }
      ]
    },
    {
      "cell_type": "code",
      "source": [
        "from sklearn.model_selection import train_test_split\n",
        "x_train, x_test, y_train, y_test, z_train, z_test = train_test_split(x, y, z, test_size = 0.2, random_state = 1)"
      ],
      "metadata": {
        "id": "WvtJvYZjvRBF"
      },
      "execution_count": null,
      "outputs": []
    },
    {
      "cell_type": "code",
      "source": [
        "print(x_train)"
      ],
      "metadata": {
        "colab": {
          "base_uri": "https://localhost:8080/"
        },
        "id": "I7cmHCczv7So",
        "outputId": "2d2163e3-1273-422d-bb00-dd83dff4b2b2"
      },
      "execution_count": null,
      "outputs": [
        {
          "output_type": "stream",
          "name": "stdout",
          "text": [
            "[[0.0 1.0 0.0 0.0 41.450934579439256 72000.0]\n",
            " [1.0 0.0 1.0 0.0 55.0 26000.0]\n",
            " [1.0 0.0 1.0 0.0 41.450934579439256 30000.0]\n",
            " ...\n",
            " [1.0 0.0 1.0 0.0 43.0 146000.0]\n",
            " [1.0 0.0 1.0 0.0 57.0 37000.0]\n",
            " [0.0 1.0 0.0 0.0 57.0 186000.0]]\n"
          ]
        }
      ]
    },
    {
      "cell_type": "code",
      "source": [
        "print(x_test)"
      ],
      "metadata": {
        "colab": {
          "base_uri": "https://localhost:8080/"
        },
        "id": "_onFpMbhwJdj",
        "outputId": "1179cad6-e42d-4d0b-ac30-0ceda22d871e"
      },
      "execution_count": null,
      "outputs": [
        {
          "output_type": "stream",
          "name": "stdout",
          "text": [
            "[[1.0 0.0 0.0 1.0 50.0 102000.0]\n",
            " [1.0 0.0 0.0 1.0 41.450934579439256 20000.0]\n",
            " [1.0 0.0 1.0 0.0 64.0 9000.0]\n",
            " [1.0 0.0 0.0 1.0 41.450934579439256 45000.0]\n",
            " [0.0 1.0 0.0 0.0 54.0 57000.0]\n",
            " [1.0 0.0 1.0 0.0 61.0 76000.0]\n",
            " [0.0 1.0 0.0 0.0 43.0 38000.0]\n",
            " [1.0 0.0 1.0 0.0 65.0 9000.0]\n",
            " [1.0 0.0 0.0 1.0 47.0 37000.0]\n",
            " [1.0 0.0 1.0 0.0 42.0 65000.0]\n",
            " [0.0 1.0 0.0 0.0 31.0 42000.0]\n",
            " [1.0 0.0 0.0 1.0 47.0 63000.0]\n",
            " [1.0 0.0 0.0 1.0 23.0 19000.0]\n",
            " [1.0 0.0 0.0 1.0 36.0 76932.12669683258]\n",
            " [0.0 1.0 0.0 0.0 21.0 19000.0]\n",
            " [1.0 0.0 0.0 1.0 26.0 32000.0]\n",
            " [1.0 0.0 0.0 1.0 41.450934579439256 36000.0]\n",
            " [1.0 0.0 0.0 1.0 26.0 25000.0]\n",
            " [0.0 1.0 0.0 0.0 53.0 76932.12669683258]\n",
            " [1.0 0.0 1.0 0.0 51.0 41000.0]\n",
            " [1.0 0.0 1.0 0.0 27.0 46000.0]\n",
            " [0.0 1.0 0.0 0.0 41.450934579439256 86000.0]\n",
            " [0.0 1.0 0.0 0.0 39.0 122000.0]\n",
            " [1.0 0.0 0.0 1.0 31.0 59000.0]\n",
            " [1.0 0.0 0.0 1.0 36.0 67000.0]\n",
            " [1.0 0.0 0.0 1.0 41.450934579439256 181000.0]\n",
            " [1.0 0.0 1.0 0.0 46.0 163000.0]\n",
            " [1.0 0.0 0.0 1.0 28.0 76932.12669683258]\n",
            " [1.0 0.0 0.0 1.0 44.0 47000.0]\n",
            " [1.0 0.0 0.0 1.0 55.0 30000.0]\n",
            " [1.0 0.0 0.0 1.0 51.0 40000.0]\n",
            " [1.0 0.0 1.0 0.0 47.0 144000.0]\n",
            " [1.0 0.0 0.0 1.0 59.0 9000.0]\n",
            " [0.0 1.0 0.0 0.0 47.0 65000.0]\n",
            " [1.0 0.0 1.0 0.0 57.0 82000.0]\n",
            " [0.0 1.0 0.0 0.0 31.0 39000.0]\n",
            " [1.0 0.0 1.0 0.0 30.0 30000.0]\n",
            " [1.0 0.0 1.0 0.0 46.0 168000.0]\n",
            " [0.0 1.0 0.0 0.0 29.0 40000.0]\n",
            " [0.0 1.0 0.0 0.0 54.0 345000.0]\n",
            " [1.0 0.0 0.0 1.0 42.0 49000.0]\n",
            " [1.0 0.0 1.0 0.0 68.0 335000.0]\n",
            " [0.0 1.0 0.0 0.0 67.0 51000.0]\n",
            " [0.0 1.0 0.0 0.0 27.0 47000.0]\n",
            " [1.0 0.0 0.0 1.0 76.0 15000.0]\n",
            " [1.0 0.0 0.0 1.0 51.0 80000.0]\n",
            " [1.0 0.0 0.0 1.0 41.450934579439256 172000.0]\n",
            " [1.0 0.0 0.0 1.0 38.0 56000.0]\n",
            " [0.0 1.0 0.0 0.0 33.0 38000.0]\n",
            " [0.0 1.0 0.0 0.0 55.0 26000.0]\n",
            " [0.0 1.0 0.0 0.0 38.0 56000.0]\n",
            " [1.0 0.0 1.0 0.0 39.0 78000.0]\n",
            " [1.0 0.0 0.0 1.0 34.0 44000.0]\n",
            " [1.0 0.0 1.0 0.0 41.450934579439256 21000.0]\n",
            " [1.0 0.0 0.0 1.0 22.0 76932.12669683258]\n",
            " [0.0 1.0 0.0 0.0 43.0 76932.12669683258]\n",
            " [1.0 0.0 0.0 1.0 36.0 42000.0]\n",
            " [1.0 0.0 0.0 1.0 48.0 49000.0]\n",
            " [0.0 1.0 0.0 0.0 39.0 26000.0]\n",
            " [1.0 0.0 1.0 0.0 55.0 65000.0]\n",
            " [1.0 0.0 1.0 0.0 41.450934579439256 78000.0]\n",
            " [1.0 0.0 0.0 1.0 40.0 50000.0]\n",
            " [1.0 0.0 0.0 1.0 39.0 105000.0]\n",
            " [1.0 0.0 0.0 1.0 57.0 264000.0]\n",
            " [0.0 1.0 0.0 0.0 27.0 91000.0]\n",
            " [1.0 0.0 1.0 0.0 41.450934579439256 80000.0]\n",
            " [0.0 1.0 0.0 0.0 29.0 40000.0]\n",
            " [0.0 1.0 0.0 0.0 41.450934579439256 9000.0]\n",
            " [1.0 0.0 1.0 0.0 33.0 102000.0]\n",
            " [1.0 0.0 1.0 0.0 58.0 96000.0]\n",
            " [1.0 0.0 1.0 0.0 38.0 29000.0]\n",
            " [0.0 1.0 0.0 0.0 46.0 81000.0]\n",
            " [1.0 0.0 1.0 0.0 33.0 19000.0]\n",
            " [1.0 0.0 0.0 1.0 40.0 51000.0]\n",
            " [1.0 0.0 0.0 1.0 30.0 20000.0]\n",
            " [1.0 0.0 0.0 1.0 43.0 123000.0]\n",
            " [1.0 0.0 0.0 1.0 60.0 24000.0]\n",
            " [1.0 0.0 1.0 0.0 41.450934579439256 36000.0]\n",
            " [1.0 0.0 1.0 0.0 42.0 52000.0]\n",
            " [1.0 0.0 0.0 1.0 41.450934579439256 37000.0]\n",
            " [1.0 0.0 0.0 1.0 30.0 46000.0]\n",
            " [1.0 0.0 0.0 1.0 31.0 28000.0]\n",
            " [1.0 0.0 0.0 1.0 19.0 21000.0]\n",
            " [0.0 1.0 0.0 0.0 32.0 88000.0]\n",
            " [1.0 0.0 1.0 0.0 41.450934579439256 214000.0]\n",
            " [1.0 0.0 1.0 0.0 30.0 28000.0]\n",
            " [0.0 1.0 0.0 0.0 35.0 76932.12669683258]\n",
            " [1.0 0.0 0.0 1.0 68.0 273000.0]\n",
            " [0.0 1.0 0.0 0.0 62.0 26000.0]\n",
            " [1.0 0.0 1.0 0.0 41.450934579439256 207000.0]\n",
            " [1.0 0.0 1.0 0.0 51.0 359000.0]\n",
            " [1.0 0.0 1.0 0.0 41.450934579439256 25000.0]\n",
            " [1.0 0.0 0.0 1.0 22.0 19000.0]\n",
            " [0.0 1.0 0.0 0.0 41.450934579439256 71000.0]\n",
            " [1.0 0.0 0.0 1.0 35.0 80000.0]\n",
            " [1.0 0.0 1.0 0.0 41.450934579439256 35000.0]\n",
            " [1.0 0.0 0.0 1.0 61.0 53000.0]\n",
            " [1.0 0.0 1.0 0.0 63.0 222000.0]\n",
            " [1.0 0.0 1.0 0.0 24.0 19000.0]\n",
            " [1.0 0.0 0.0 1.0 64.0 674000.0]]\n"
          ]
        }
      ]
    },
    {
      "cell_type": "code",
      "source": [
        "print(y_train)"
      ],
      "metadata": {
        "colab": {
          "base_uri": "https://localhost:8080/"
        },
        "id": "ONbDvYR8wjZd",
        "outputId": "ee5e3775-e308-4a44-d602-5c2dcea7ff1d"
      },
      "execution_count": null,
      "outputs": [
        {
          "output_type": "stream",
          "name": "stdout",
          "text": [
            "[1 0 1 1 1 1 0 0 1 0 1 1 1 1 1 0 0 0 1 0 1 1 1 1 0 0 0 1 0 1 1 0 0 1 0 0 0\n",
            " 1 1 0 0 0 1 1 0 0 0 0 0 1 1 0 1 0 0 0 0 1 1 1 0 1 1 1 1 0 0 1 0 0 0 1 1 0\n",
            " 1 1 1 1 1 1 1 1 1 0 1 1 1 1 1 0 1 0 0 0 0 1 1 1 1 0 1 0 1 1 1 0 0 1 1 1 1\n",
            " 0 1 0 1 1 0 1 0 0 0 0 0 0 1 1 1 0 1 1 0 0 0 1 1 1 1 1 1 1 1 1 1 0 1 1 0 0\n",
            " 1 0 0 0 1 1 0 1 1 0 0 1 0 0 1 0 0 1 0 1 1 1 0 1 1 0 1 0 0 0 0 0 1 0 1 0 1\n",
            " 1 1 1 0 1 1 1 1 0 1 1 1 1 0 0 0 1 0 0 0 0 0 1 0 0 1 0 0 1 0 1 0 0 0 0 0 1\n",
            " 0 0 0 0 0 1 0 1 0 1 1 1 0 1 1 0 0 0 0 0 0 1 0 0 1 1 0 0 1 1 0 0 0 1 1 1 0\n",
            " 1 1 1 1 0 0 1 1 0 1 1 0 0 1 0 0 0 1 0 0 0 0 0 1 0 0 0 1 0 1 1 1 0 1 1 0 0\n",
            " 1 0 0 1 0 0 0 1 0 0 0 1 0 1 1 0 1 0 1 1 1 0 1 1 1 0 1 0 1 0 1 0 1 0 0 0 0\n",
            " 0 0 0 1 1 0 0 0 1 1 1 1 1 0 1 0 0 1 0 0 1 1 1 0 0 0 1 1 1 0 0 0 0 1 1 1 0\n",
            " 0 1 1 0 0 0 0 1 1 0 1 1 0 0 0 1 1 1 1 0 0 1 0 1 1 0 1 0 0]\n"
          ]
        }
      ]
    },
    {
      "cell_type": "code",
      "source": [
        "print(y_test)"
      ],
      "metadata": {
        "colab": {
          "base_uri": "https://localhost:8080/"
        },
        "id": "5QLP3Cbdwmyz",
        "outputId": "069406c0-d76d-4a26-f5be-0830214d020e"
      },
      "execution_count": null,
      "outputs": [
        {
          "output_type": "stream",
          "name": "stdout",
          "text": [
            "[1 1 1 1 1 0 0 1 1 0 1 0 0 1 1 0 0 0 0 0 0 0 0 0 1 0 0 1 1 0 1 1 0 0 1 1 0\n",
            " 1 0 0 0 1 0 1 0 0 0 0 0 1 0 1 0 1 0 0 1 1 0 0 0 1 1 1 1 1 1 1 0 0 0 1 1 1\n",
            " 1 0 1 0 0 0 0 0 1 0 0 0 0 1 1 1 0 0 1 1 1 0 1 1 0 1]\n"
          ]
        }
      ]
    },
    {
      "cell_type": "code",
      "source": [
        "print(z_train)"
      ],
      "metadata": {
        "colab": {
          "base_uri": "https://localhost:8080/"
        },
        "id": "PRf9CF2rwpwT",
        "outputId": "0aea9e69-e412-44f5-eced-180caed70aa4"
      },
      "execution_count": null,
      "outputs": [
        {
          "output_type": "stream",
          "name": "stdout",
          "text": [
            "[1 1 1 0 1 0 0 1 0 0 0 1 0 0 1 1 1 1 1 0 1 1 0 1 0 0 1 0 0 0 1 1 1 0 0 0 1\n",
            " 1 1 1 1 0 0 1 1 0 1 0 0 0 0 1 1 1 1 0 0 0 1 1 0 0 0 1 1 0 0 1 0 0 0 1 1 0\n",
            " 0 0 1 1 1 1 0 0 1 0 1 0 1 0 0 0 0 1 1 1 0 0 0 1 0 0 0 1 0 1 0 0 0 1 0 1 1\n",
            " 0 1 0 0 0 0 1 0 0 1 0 0 1 1 1 0 0 1 0 0 1 1 1 0 0 1 1 1 0 1 0 0 1 0 1 1 0\n",
            " 1 0 1 0 0 0 0 0 0 1 1 1 1 1 1 1 1 1 0 1 1 0 1 0 0 1 0 1 1 1 1 1 1 0 0 0 0\n",
            " 1 1 0 1 0 0 1 0 1 0 1 0 1 0 0 0 0 1 0 1 0 0 1 0 1 0 1 0 0 0 1 1 0 1 0 1 0\n",
            " 1 0 0 1 1 0 0 1 0 0 0 1 1 0 1 1 1 1 0 0 1 1 1 0 1 0 0 1 0 1 0 1 1 0 0 0 1\n",
            " 0 0 0 1 0 1 1 1 0 1 1 0 0 0 1 1 1 1 1 1 1 1 1 0 1 1 1 0 1 1 1 0 1 1 0 0 0\n",
            " 1 1 0 0 0 0 0 0 0 0 0 0 0 1 1 0 1 0 0 0 1 1 1 0 0 0 1 1 0 0 0 1 1 1 1 0 1\n",
            " 0 0 0 1 1 0 0 1 1 1 1 0 0 1 0 1 0 1 0 0 0 0 0 1 0 0 1 0 0 1 0 0 1 1 0 1 1\n",
            " 0 1 1 1 0 1 0 0 1 1 1 1 0 0 0 1 0 0 1 0 1 0 0 1 0 1 1 1 0]\n"
          ]
        }
      ]
    },
    {
      "cell_type": "code",
      "source": [
        "print(z_test)"
      ],
      "metadata": {
        "colab": {
          "base_uri": "https://localhost:8080/"
        },
        "id": "JN0X5s2ewr0S",
        "outputId": "6834cf4f-0d8b-4af5-faba-2fb128b02c56"
      },
      "execution_count": null,
      "outputs": [
        {
          "output_type": "stream",
          "name": "stdout",
          "text": [
            "[0 0 1 0 0 0 1 1 0 0 0 0 0 1 1 1 0 0 0 0 0 0 1 1 1 1 0 1 1 1 0 1 1 0 1 0 0\n",
            " 0 1 0 1 0 0 1 1 0 1 0 1 0 0 1 1 1 1 0 1 1 0 1 0 1 1 0 0 1 0 1 1 0 1 1 0 1\n",
            " 1 0 1 0 1 1 1 1 1 1 1 1 0 1 1 1 0 1 0 0 1 1 0 0 1 1]\n"
          ]
        }
      ]
    },
    {
      "cell_type": "code",
      "source": [
        "from sklearn.preprocessing import StandardScaler\n",
        "sc = StandardScaler()\n",
        "x_train[:, 3:] = sc.fit_transform(x_train[:, 3:])\n",
        "x_test[:, 3:] = sc.transform(x_test[:, 3:])"
      ],
      "metadata": {
        "id": "LkzMHOoiwzwL"
      },
      "execution_count": null,
      "outputs": []
    },
    {
      "cell_type": "code",
      "source": [
        "print(x_train)"
      ],
      "metadata": {
        "colab": {
          "base_uri": "https://localhost:8080/"
        },
        "id": "vzyVEBcLyBdz",
        "outputId": "7f8b5fba-205f-4788-e559-a0a33068df22"
      },
      "execution_count": null,
      "outputs": [
        {
          "output_type": "stream",
          "name": "stdout",
          "text": [
            "[[0.0 1.0 0.0 -0.6558258357839528 0.02422830889068139\n",
            "  -0.05204937831694189]\n",
            " [1.0 0.0 1.0 -0.6558258357839528 1.219602966961921 -0.6580062343881287]\n",
            " [1.0 0.0 1.0 -0.6558258357839528 0.02422830889068139 -0.6053143338601994]\n",
            " ...\n",
            " [1.0 0.0 1.0 -0.6558258357839528 0.16089556157239038 0.9227507814497499]\n",
            " [1.0 0.0 1.0 -0.6558258357839528 1.3960542011935093 -0.5131035079363232]\n",
            " [0.0 1.0 0.0 -0.6558258357839528 1.3960542011935093 1.449669786729043]]\n"
          ]
        }
      ]
    },
    {
      "cell_type": "code",
      "source": [
        "print(x_test)"
      ],
      "metadata": {
        "colab": {
          "base_uri": "https://localhost:8080/"
        },
        "id": "B7wyiETLyD7p",
        "outputId": "a629c126-c371-46b9-e49b-7911d06a5141"
      },
      "execution_count": null,
      "outputs": [
        {
          "output_type": "stream",
          "name": "stdout",
          "text": [
            "[[1.0 0.0 0.0 0.999999999999997 49.99999999999996 102000.00000000006]\n",
            " [1.0 0.0 0.0 0.999999999999997 41.45093457943922 20000.00000000001]\n",
            " [1.0 0.0 1.0 -1.3912569230891646e-16 63.99999999999994 9000.000000000005]\n",
            " [1.0 0.0 0.0 0.999999999999997 41.45093457943922 45000.00000000002]\n",
            " [0.0 1.0 0.0 -1.3912569230891646e-16 53.99999999999995 57000.00000000003]\n",
            " [1.0 0.0 1.0 -1.3912569230891646e-16 60.99999999999994 76000.00000000004]\n",
            " [0.0 1.0 0.0 -1.3912569230891646e-16 42.999999999999964\n",
            "  38000.00000000002]\n",
            " [1.0 0.0 1.0 -1.3912569230891646e-16 64.99999999999994 9000.000000000005]\n",
            " [1.0 0.0 0.0 0.999999999999997 46.99999999999996 37000.00000000002]\n",
            " [1.0 0.0 1.0 -1.3912569230891646e-16 41.999999999999964\n",
            "  65000.00000000004]\n",
            " [0.0 1.0 0.0 -1.3912569230891646e-16 30.999999999999975\n",
            "  42000.00000000002]\n",
            " [1.0 0.0 0.0 0.999999999999997 46.99999999999996 63000.00000000004]\n",
            " [1.0 0.0 0.0 0.999999999999997 22.999999999999982 19000.00000000001]\n",
            " [1.0 0.0 0.0 0.999999999999997 35.99999999999997 76932.12669683262]\n",
            " [0.0 1.0 0.0 -1.3912569230891646e-16 20.999999999999986\n",
            "  19000.00000000001]\n",
            " [1.0 0.0 0.0 0.999999999999997 25.999999999999982 32000.00000000002]\n",
            " [1.0 0.0 0.0 0.999999999999997 41.45093457943922 36000.00000000002]\n",
            " [1.0 0.0 0.0 0.999999999999997 25.999999999999982 25000.000000000015]\n",
            " [0.0 1.0 0.0 -1.3912569230891646e-16 52.99999999999995 76932.12669683262]\n",
            " [1.0 0.0 1.0 -1.3912569230891646e-16 50.99999999999996 41000.00000000002]\n",
            " [1.0 0.0 1.0 -1.3912569230891646e-16 26.99999999999998 46000.00000000003]\n",
            " [0.0 1.0 0.0 -1.3912569230891646e-16 41.45093457943922 86000.00000000004]\n",
            " [0.0 1.0 0.0 -1.3912569230891646e-16 38.999999999999964\n",
            "  122000.00000000007]\n",
            " [1.0 0.0 0.0 0.999999999999997 30.999999999999975 59000.00000000004]\n",
            " [1.0 0.0 0.0 0.999999999999997 35.99999999999997 67000.00000000004]\n",
            " [1.0 0.0 0.0 0.999999999999997 41.45093457943922 181000.0000000001]\n",
            " [1.0 0.0 1.0 -1.3912569230891646e-16 45.99999999999996 163000.0000000001]\n",
            " [1.0 0.0 0.0 0.999999999999997 27.99999999999998 76932.12669683262]\n",
            " [1.0 0.0 0.0 0.999999999999997 43.999999999999964 47000.00000000003]\n",
            " [1.0 0.0 0.0 0.999999999999997 54.99999999999995 30000.00000000002]\n",
            " [1.0 0.0 0.0 0.999999999999997 50.99999999999996 40000.00000000002]\n",
            " [1.0 0.0 1.0 -1.3912569230891646e-16 46.99999999999996 144000.0000000001]\n",
            " [1.0 0.0 0.0 0.999999999999997 58.99999999999995 9000.000000000005]\n",
            " [0.0 1.0 0.0 -1.3912569230891646e-16 46.99999999999996 65000.00000000004]\n",
            " [1.0 0.0 1.0 -1.3912569230891646e-16 56.99999999999995 82000.00000000004]\n",
            " [0.0 1.0 0.0 -1.3912569230891646e-16 30.999999999999975\n",
            "  39000.00000000002]\n",
            " [1.0 0.0 1.0 -1.3912569230891646e-16 29.99999999999998 30000.00000000002]\n",
            " [1.0 0.0 1.0 -1.3912569230891646e-16 45.99999999999996 168000.0000000001]\n",
            " [0.0 1.0 0.0 -1.3912569230891646e-16 28.99999999999998 40000.00000000002]\n",
            " [0.0 1.0 0.0 -1.3912569230891646e-16 53.99999999999995 345000.0000000002]\n",
            " [1.0 0.0 0.0 0.999999999999997 41.999999999999964 49000.00000000003]\n",
            " [1.0 0.0 1.0 -1.3912569230891646e-16 67.99999999999994 335000.0000000002]\n",
            " [0.0 1.0 0.0 -1.3912569230891646e-16 66.99999999999994 51000.00000000003]\n",
            " [0.0 1.0 0.0 -1.3912569230891646e-16 26.99999999999998 47000.00000000003]\n",
            " [1.0 0.0 0.0 0.999999999999997 75.99999999999993 15000.00000000001]\n",
            " [1.0 0.0 0.0 0.999999999999997 50.99999999999996 80000.00000000004]\n",
            " [1.0 0.0 0.0 0.999999999999997 41.45093457943922 172000.0000000001]\n",
            " [1.0 0.0 0.0 0.999999999999997 37.999999999999964 56000.00000000003]\n",
            " [0.0 1.0 0.0 -1.3912569230891646e-16 32.99999999999997 38000.00000000002]\n",
            " [0.0 1.0 0.0 -1.3912569230891646e-16 54.99999999999995\n",
            "  26000.000000000015]\n",
            " [0.0 1.0 0.0 -1.3912569230891646e-16 37.999999999999964\n",
            "  56000.00000000003]\n",
            " [1.0 0.0 1.0 -1.3912569230891646e-16 38.999999999999964\n",
            "  78000.00000000004]\n",
            " [1.0 0.0 0.0 0.999999999999997 33.99999999999997 44000.00000000002]\n",
            " [1.0 0.0 1.0 -1.3912569230891646e-16 41.45093457943922 21000.00000000001]\n",
            " [1.0 0.0 0.0 0.999999999999997 21.999999999999986 76932.12669683262]\n",
            " [0.0 1.0 0.0 -1.3912569230891646e-16 42.999999999999964\n",
            "  76932.12669683262]\n",
            " [1.0 0.0 0.0 0.999999999999997 35.99999999999997 42000.00000000002]\n",
            " [1.0 0.0 0.0 0.999999999999997 47.99999999999996 49000.00000000003]\n",
            " [0.0 1.0 0.0 -1.3912569230891646e-16 38.999999999999964\n",
            "  26000.000000000015]\n",
            " [1.0 0.0 1.0 -1.3912569230891646e-16 54.99999999999995 65000.00000000004]\n",
            " [1.0 0.0 1.0 -1.3912569230891646e-16 41.45093457943922 78000.00000000004]\n",
            " [1.0 0.0 0.0 0.999999999999997 39.999999999999964 50000.00000000003]\n",
            " [1.0 0.0 0.0 0.999999999999997 38.999999999999964 105000.00000000006]\n",
            " [1.0 0.0 0.0 0.999999999999997 56.99999999999995 264000.0000000002]\n",
            " [0.0 1.0 0.0 -1.3912569230891646e-16 26.99999999999998 91000.00000000004]\n",
            " [1.0 0.0 1.0 -1.3912569230891646e-16 41.45093457943922 80000.00000000004]\n",
            " [0.0 1.0 0.0 -1.3912569230891646e-16 28.99999999999998 40000.00000000002]\n",
            " [0.0 1.0 0.0 -1.3912569230891646e-16 41.45093457943922 9000.000000000005]\n",
            " [1.0 0.0 1.0 -1.3912569230891646e-16 32.99999999999997\n",
            "  102000.00000000006]\n",
            " [1.0 0.0 1.0 -1.3912569230891646e-16 57.99999999999995 96000.00000000006]\n",
            " [1.0 0.0 1.0 -1.3912569230891646e-16 37.999999999999964\n",
            "  29000.000000000015]\n",
            " [0.0 1.0 0.0 -1.3912569230891646e-16 45.99999999999996 81000.00000000004]\n",
            " [1.0 0.0 1.0 -1.3912569230891646e-16 32.99999999999997 19000.00000000001]\n",
            " [1.0 0.0 0.0 0.999999999999997 39.999999999999964 51000.00000000003]\n",
            " [1.0 0.0 0.0 0.999999999999997 29.99999999999998 20000.00000000001]\n",
            " [1.0 0.0 0.0 0.999999999999997 42.999999999999964 123000.00000000007]\n",
            " [1.0 0.0 0.0 0.999999999999997 59.99999999999995 24000.000000000015]\n",
            " [1.0 0.0 1.0 -1.3912569230891646e-16 41.45093457943922 36000.00000000002]\n",
            " [1.0 0.0 1.0 -1.3912569230891646e-16 41.999999999999964\n",
            "  52000.00000000003]\n",
            " [1.0 0.0 0.0 0.999999999999997 41.45093457943922 37000.00000000002]\n",
            " [1.0 0.0 0.0 0.999999999999997 29.99999999999998 46000.00000000003]\n",
            " [1.0 0.0 0.0 0.999999999999997 30.999999999999975 28000.000000000015]\n",
            " [1.0 0.0 0.0 0.999999999999997 18.999999999999986 21000.00000000001]\n",
            " [0.0 1.0 0.0 -1.3912569230891646e-16 31.99999999999997 88000.00000000004]\n",
            " [1.0 0.0 1.0 -1.3912569230891646e-16 41.45093457943922\n",
            "  214000.00000000012]\n",
            " [1.0 0.0 1.0 -1.3912569230891646e-16 29.99999999999998\n",
            "  28000.000000000015]\n",
            " [0.0 1.0 0.0 -1.3912569230891646e-16 34.99999999999997 76932.12669683262]\n",
            " [1.0 0.0 0.0 0.999999999999997 67.99999999999994 273000.0000000002]\n",
            " [0.0 1.0 0.0 -1.3912569230891646e-16 61.99999999999994\n",
            "  26000.000000000015]\n",
            " [1.0 0.0 1.0 -1.3912569230891646e-16 41.45093457943922\n",
            "  207000.00000000012]\n",
            " [1.0 0.0 1.0 -1.3912569230891646e-16 50.99999999999996 359000.0000000002]\n",
            " [1.0 0.0 1.0 -1.3912569230891646e-16 41.45093457943922\n",
            "  25000.000000000015]\n",
            " [1.0 0.0 0.0 0.999999999999997 21.999999999999986 19000.00000000001]\n",
            " [0.0 1.0 0.0 -1.3912569230891646e-16 41.45093457943922 71000.00000000004]\n",
            " [1.0 0.0 0.0 0.999999999999997 34.99999999999997 80000.00000000004]\n",
            " [1.0 0.0 1.0 -1.3912569230891646e-16 41.45093457943922 35000.00000000002]\n",
            " [1.0 0.0 0.0 0.999999999999997 60.99999999999994 53000.00000000003]\n",
            " [1.0 0.0 1.0 -1.3912569230891646e-16 62.99999999999994\n",
            "  222000.00000000012]\n",
            " [1.0 0.0 1.0 -1.3912569230891646e-16 23.999999999999982\n",
            "  19000.00000000001]\n",
            " [1.0 0.0 0.0 0.999999999999997 63.99999999999994 674000.0000000003]]\n"
          ]
        }
      ]
    }
  ]
}